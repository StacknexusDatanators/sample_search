{
 "cells": [
  {
   "cell_type": "code",
   "execution_count": 4,
   "id": "d0524e31-7d62-4a05-822c-03842df7531f",
   "metadata": {},
   "outputs": [
    {
     "ename": "AttributeError",
     "evalue": "'NoneType' object has no attribute 'find'",
     "output_type": "error",
     "traceback": [
      "\u001b[0;31m---------------------------------------------------------------------------\u001b[0m",
      "\u001b[0;31mAttributeError\u001b[0m                            Traceback (most recent call last)",
      "Cell \u001b[0;32mIn[4], line 14\u001b[0m\n\u001b[1;32m     11\u001b[0m target_section_name \u001b[38;5;241m=\u001b[39m \u001b[38;5;124m\"\u001b[39m\u001b[38;5;124mSection 2\u001b[39m\u001b[38;5;124m\"\u001b[39m\n\u001b[1;32m     13\u001b[0m \u001b[38;5;66;03m# Find the specific section you want to extract based on its heading text\u001b[39;00m\n\u001b[0;32m---> 14\u001b[0m specific_section \u001b[38;5;241m=\u001b[39m \u001b[43msoup\u001b[49m\u001b[38;5;241;43m.\u001b[39;49m\u001b[43mfind\u001b[49m\u001b[43m(\u001b[49m\u001b[38;5;124;43m'\u001b[39;49m\u001b[38;5;124;43mdiv\u001b[39;49m\u001b[38;5;124;43m'\u001b[39;49m\u001b[43m,\u001b[49m\u001b[43m \u001b[49m\u001b[43mclass_\u001b[49m\u001b[38;5;241;43m=\u001b[39;49m\u001b[38;5;124;43m'\u001b[39;49m\u001b[38;5;124;43msection\u001b[39;49m\u001b[38;5;124;43m'\u001b[39;49m\u001b[43m)\u001b[49m\u001b[38;5;241;43m.\u001b[39;49m\u001b[43mfind\u001b[49m(\u001b[38;5;124m'\u001b[39m\u001b[38;5;124mh2\u001b[39m\u001b[38;5;124m'\u001b[39m, text\u001b[38;5;241m=\u001b[39mtarget_section_name)\n\u001b[1;32m     16\u001b[0m \u001b[38;5;66;03m# Print the extracted section's content\u001b[39;00m\n\u001b[1;32m     17\u001b[0m \u001b[38;5;28;01mif\u001b[39;00m specific_section:\n",
      "\u001b[0;31mAttributeError\u001b[0m: 'NoneType' object has no attribute 'find'"
     ]
    }
   ],
   "source": [
    "from bs4 import BeautifulSoup\n",
    "\n",
    "# Read the HTML content from a local file with a specified encoding\n",
    "with open('C360_sample.html', 'r', encoding='ISO-8859-1') as file:\n",
    "    html_content = file.read()\n",
    "\n",
    "# Parse the HTML content using Beautiful Soup\n",
    "soup = BeautifulSoup(html_content, 'html.parser')\n",
    "\n",
    "# Define the name of the section you want to extract\n",
    "target_section_name = \"Section 2\"\n",
    "\n",
    "# Find the specific section you want to extract based on its heading text\n",
    "specific_section = soup.find('div', class_='section').find('h2', text=target_section_name)\n",
    "\n",
    "# Print the extracted section's content\n",
    "if specific_section:\n",
    "    section_content = specific_section.find_next_sibling('p')\n",
    "    if section_content:\n",
    "        print(\"Specific Section Content:\")\n",
    "        print(section_content.text)\n",
    "    else:\n",
    "        print(\"Section content not found.\")\n",
    "else:\n",
    "    print(\"Section not found.\")"
   ]
  },
  {
   "cell_type": "code",
   "execution_count": 6,
   "id": "8ed3c0dc",
   "metadata": {},
   "outputs": [],
   "source": [
    "soup?"
   ]
  },
  {
   "cell_type": "code",
   "execution_count": 5,
   "id": "80eac833-f2fe-4b52-8c4f-000a7ceb51a7",
   "metadata": {},
   "outputs": [
    {
     "name": "stdout",
     "output_type": "stream",
     "text": [
      "Section div not found.\n"
     ]
    }
   ],
   "source": [
    "from bs4 import BeautifulSoup\n",
    "\n",
    "# Read the HTML content from a local file with a specified encoding\n",
    "with open('C360_sample.html', 'r', encoding='ISO-8859-1') as file:\n",
    "    html_content = file.read()\n",
    "\n",
    "# Parse the HTML content using Beautiful Soup\n",
    "soup = BeautifulSoup(html_content, 'html.parser')\n",
    "\n",
    "# Define the name of the section you want to extract\n",
    "target_section_name = \"Section 2\"\n",
    "\n",
    "# Find the specific section you want to extract based on its heading text\n",
    "div_section = soup.find('div', class_='section')\n",
    "if div_section:\n",
    "    specific_section = div_section.find('h2', text=target_section_name)\n",
    "\n",
    "    # Print the extracted section's content\n",
    "    if specific_section:\n",
    "        section_content = specific_section.find_next_sibling('p')\n",
    "        if section_content:\n",
    "            print(\"Specific Section Content:\")\n",
    "            print(section_content.text)\n",
    "        else:\n",
    "            print(\"Section content not found.\")\n",
    "    else:\n",
    "        print(\"Section not found.\")\n",
    "else:\n",
    "    print(\"Section div not found.\")\n"
   ]
  },
  {
   "cell_type": "code",
   "execution_count": null,
   "id": "b60a080e",
   "metadata": {},
   "outputs": [],
   "source": []
  }
 ],
 "metadata": {
  "kernelspec": {
   "display_name": "Python 3 (ipykernel)",
   "language": "python",
   "name": "python3"
  },
  "language_info": {
   "codemirror_mode": {
    "name": "ipython",
    "version": 3
   },
   "file_extension": ".py",
   "mimetype": "text/x-python",
   "name": "python",
   "nbconvert_exporter": "python",
   "pygments_lexer": "ipython3",
   "version": "3.9.18"
  }
 },
 "nbformat": 4,
 "nbformat_minor": 5
}
