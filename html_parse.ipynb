{
 "cells": [
  {
   "cell_type": "code",
   "execution_count": 1,
   "id": "b60a080e",
   "metadata": {},
   "outputs": [],
   "source": [
    "from bs4 import BeautifulSoup\n",
    "import re\n",
    "import json\n",
    "import warnings\n",
    "warnings.filterwarnings(\"ignore\")"
   ]
  },
  {
   "cell_type": "code",
   "execution_count": 2,
   "id": "9dce4bc3",
   "metadata": {},
   "outputs": [],
   "source": [
    "def extract_info_between_topics(file_path, start_topic, end_topic):\n",
    "    with open(file_path, 'r', encoding='utf-8') as file:\n",
    "        html_content = file.read()\n",
    "\n",
    "    soup = BeautifulSoup(html_content, 'html.parser')\n",
    "\n",
    "    start_topic_element = soup.find('span', text=start_topic)\n",
    "    end_topic_element = soup.find('span', text=end_topic)\n",
    "\n",
    "    content_between = \"\"\n",
    "\n",
    "    if start_topic_element and end_topic_element:\n",
    "        all_elements = soup.find_all(True)\n",
    "\n",
    "        start_index = all_elements.index(start_topic_element)\n",
    "        end_index = all_elements.index(end_topic_element)\n",
    "\n",
    "        for elem in all_elements[start_index + 1:end_index]:\n",
    "            if elem.name in ['p', 'ul', 'ol']:  \n",
    "                content_between += elem.get_text(strip=True) + '\\n\\n'\n",
    "\n",
    "        filtered_output = re.sub(f'(?m){re.escape(end_topic)}.*$', '', start_topic + '\\n\\n' + content_between.strip())\n",
    "\n",
    "    return filtered_output"
   ]
  },
  {
   "cell_type": "code",
   "execution_count": 3,
   "id": "87400961",
   "metadata": {},
   "outputs": [
    {
     "name": "stdout",
     "output_type": "stream",
     "text": [
      "Key Features and Capabilities\n",
      "\n",
      "1. Data Integration:\n",
      "\n",
      "Seamless integration of data from multiple sources, ensuring a unified and enriched customer profile.\n",
      "\n",
      "2. 360-Degree Customer Profile:\n",
      "\n",
      "Comprehensive customer profiles encompassing demographic information, purchase history, communication preferences, and more.\n",
      "\n",
      "3. Real-time Updates:\n",
      "\n",
      "Continuous and real-time updates to keep customer profiles current, facilitating prompt responses to changing customer behaviors.\n",
      "\n",
      "4. Advanced Analytics and Reporting:\n",
      "\n",
      "Powerful analytics tools and customizable reporting dashboards for deriving actionable insights from customer data.\n",
      "\n",
      "5. Segmentation and Targeting:\n",
      "\n",
      "Tools for segmenting customers based on various criteria, enabling personalized marketing and communication strategies.\n",
      "\n",
      "6. Predictive Analytics:\n",
      "\n",
      "Utilization of predictive modeling and machine learning algorithms to forecast customer behaviors and recommend personalized offerings.\n",
      "\n",
      "7. Security and Compliance:\n",
      "\n",
      "Stringent security measures and data governance protocols to ensure the accuracy, reliability, and privacy of customer information.\n",
      "\n",
      "Business Context and Application\n",
      "\n",
      "The Customer 360 Data Product finds application across diverse business contexts, including:\n",
      "\n",
      "Marketing Optimization: Tailoring marketing campaigns based on customer insights to enhance targeting and campaign effectiveness.\n",
      "\n",
      "Customer Retention: Implementing proactive retention strategies by identifying at-risk customers and addressing their needs.\n",
      "\n",
      "Operational Efficiency: Supporting decision-making processes and resource allocation through data-driven insights.\n",
      "\n",
      "Personalized Customer Experiences: Enabling personalized interactions and experiences by leveraging a deep understanding of individual customer preferences.\n",
      "\n",
      "\n"
     ]
    }
   ],
   "source": [
    "file_path = \"test1.html\"\n",
    "start_topic = \"Key Features and Capabilities\"\n",
    "end_topic = \"Expected Outcomes and Benefits\"\n",
    "info = extract_info_between_topics(file_path, start_topic, end_topic)\n",
    "print(info)"
   ]
  },
  {
   "cell_type": "code",
   "execution_count": 4,
   "id": "f6d4acc3",
   "metadata": {},
   "outputs": [
    {
     "data": {
      "text/plain": [
       "'Key Features and Capabilities\\n\\n1. Data Integration:\\n\\nSeamless integration of data from multiple sources, ensuring a unified and enriched customer profile.\\n\\n2. 360-Degree Customer Profile:\\n\\nComprehensive customer profiles encompassing demographic information, purchase history, communication preferences, and more.\\n\\n3. Real-time Updates:\\n\\nContinuous and real-time updates to keep customer profiles current, facilitating prompt responses to changing customer behaviors.\\n\\n4. Advanced Analytics and Reporting:\\n\\nPowerful analytics tools and customizable reporting dashboards for deriving actionable insights from customer data.\\n\\n5. Segmentation and Targeting:\\n\\nTools for segmenting customers based on various criteria, enabling personalized marketing and communication strategies.\\n\\n6. Predictive Analytics:\\n\\nUtilization of predictive modeling and machine learning algorithms to forecast customer behaviors and recommend personalized offerings.\\n\\n7. Security and Compliance:\\n\\nStringent security measures and data governance protocols to ensure the accuracy, reliability, and privacy of customer information.\\n\\nBusiness Context and Application\\n\\nThe Customer 360 Data Product finds application across diverse business contexts, including:\\n\\nMarketing Optimization: Tailoring marketing campaigns based on customer insights to enhance targeting and campaign effectiveness.\\n\\nCustomer Retention: Implementing proactive retention strategies by identifying at-risk customers and addressing their needs.\\n\\nOperational Efficiency: Supporting decision-making processes and resource allocation through data-driven insights.\\n\\nPersonalized Customer Experiences: Enabling personalized interactions and experiences by leveraging a deep understanding of individual customer preferences.\\n\\n'"
      ]
     },
     "execution_count": 4,
     "metadata": {},
     "output_type": "execute_result"
    }
   ],
   "source": [
    "info"
   ]
  },
  {
   "cell_type": "code",
   "execution_count": 5,
   "id": "f435109f",
   "metadata": {},
   "outputs": [
    {
     "name": "stdout",
     "output_type": "stream",
     "text": [
      "\"Key Features and Capabilities\\n\\n1. Data Integration:\\n\\nSeamless integration of data from multiple sources, ensuring a unified and enriched customer profile.\\n\\n2. 360-Degree Customer Profile:\\n\\nComprehensive customer profiles encompassing demographic information, purchase history, communication preferences, and more.\\n\\n3. Real-time Updates:\\n\\nContinuous and real-time updates to keep customer profiles current, facilitating prompt responses to changing customer behaviors.\\n\\n4. Advanced Analytics and Reporting:\\n\\nPowerful analytics tools and customizable reporting dashboards for deriving actionable insights from customer data.\\n\\n5. Segmentation and Targeting:\\n\\nTools for segmenting customers based on various criteria, enabling personalized marketing and communication strategies.\\n\\n6. Predictive Analytics:\\n\\nUtilization of predictive modeling and machine learning algorithms to forecast customer behaviors and recommend personalized offerings.\\n\\n7. Security and Compliance:\\n\\nStringent security measures and data governance protocols to ensure the accuracy, reliability, and privacy of customer information.\\n\\nBusiness Context and Application\\n\\nThe Customer 360 Data Product finds application across diverse business contexts, including:\\n\\nMarketing Optimization: Tailoring marketing campaigns based on customer insights to enhance targeting and campaign effectiveness.\\n\\nCustomer Retention: Implementing proactive retention strategies by identifying at-risk customers and addressing their needs.\\n\\nOperational Efficiency: Supporting decision-making processes and resource allocation through data-driven insights.\\n\\nPersonalized Customer Experiences: Enabling personalized interactions and experiences by leveraging a deep understanding of individual customer preferences.\\n\\n\"\n"
     ]
    }
   ],
   "source": [
    "json_formatted_data = json.dumps(info)\n",
    "print(json_formatted_data)"
   ]
  },
  {
   "cell_type": "code",
   "execution_count": null,
   "id": "822e676c",
   "metadata": {},
   "outputs": [],
   "source": []
  }
 ],
 "metadata": {
  "kernelspec": {
   "display_name": "Python 3 (ipykernel)",
   "language": "python",
   "name": "python3"
  },
  "language_info": {
   "codemirror_mode": {
    "name": "ipython",
    "version": 3
   },
   "file_extension": ".py",
   "mimetype": "text/x-python",
   "name": "python",
   "nbconvert_exporter": "python",
   "pygments_lexer": "ipython3",
   "version": "3.9.18"
  }
 },
 "nbformat": 4,
 "nbformat_minor": 5
}
