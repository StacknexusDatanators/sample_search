{
 "cells": [
  {
   "cell_type": "code",
   "execution_count": 11,
   "id": "d6713895",
   "metadata": {},
   "outputs": [
    {
     "name": "stdout",
     "output_type": "stream",
     "text": [
      "None\n"
     ]
    }
   ],
   "source": [
    "from bs4 import BeautifulSoup\n",
    "\n",
    "def extract_specific_part(html_file_path, tag_name, id_name=None):\n",
    "    with open(html_file_path, 'r', encoding='utf-8') as file:\n",
    "        html_content = file.read()\n",
    "\n",
    "    soup = BeautifulSoup(html_content, 'html.parser')\n",
    "\n",
    "    if id_name:\n",
    "        specific_part = soup.find(tag_name, id=id_name)\n",
    "    else:\n",
    "        specific_part = soup.find(tag_name)\n",
    "\n",
    "    return specific_part\n",
    "\n",
    "# Example usage:\n",
    "html_file_path = 'customer.html'  # Replace 'customer.html' with the path to your HTML file\n",
    "tag_name = 'Business Context and Application'  # Specify the tag name you want to extract\n",
    "id_name = 'specific-id'  # Specify the id name (if any) of the tag you want to extract\n",
    "\n",
    "specific_part = extract_specific_part(html_file_path, tag_name, id_name)\n",
    "print(specific_part)"
   ]
  },
  {
   "cell_type": "code",
   "execution_count": 12,
   "id": "04aa8a39",
   "metadata": {},
   "outputs": [],
   "source": [
    "from bs4 import BeautifulSoup\n",
    "\n",
    "def create_soup_from_html(html_file_path):\n",
    "    with open(html_file_path, 'r', encoding='utf-8') as file:\n",
    "        html_content = file.read()\n",
    "\n",
    "    soup = BeautifulSoup(html_content, 'html.parser')\n",
    "    return soup\n",
    "\n",
    "# Example usage:\n",
    "html_file_path = 'customer.html' \n",
    "soup = create_soup_from_html(html_file_path)"
   ]
  },
  {
   "cell_type": "code",
   "execution_count": 13,
   "id": "0af88606",
   "metadata": {},
   "outputs": [
    {
     "name": "stderr",
     "output_type": "stream",
     "text": [
      "IOPub data rate exceeded.\n",
      "The notebook server will temporarily stop sending output\n",
      "to the client in order to avoid crashing it.\n",
      "To change this limit, set the config variable\n",
      "`--NotebookApp.iopub_data_rate_limit`.\n",
      "\n",
      "Current values:\n",
      "NotebookApp.iopub_data_rate_limit=1000000.0 (bytes/sec)\n",
      "NotebookApp.rate_limit_window=3.0 (secs)\n",
      "\n"
     ]
    }
   ],
   "source": [
    "print(soup)"
   ]
  },
  {
   "cell_type": "code",
   "execution_count": 14,
   "id": "a1a94eab",
   "metadata": {},
   "outputs": [
    {
     "name": "stdout",
     "output_type": "stream",
     "text": [
      "Element not found.\n"
     ]
    }
   ],
   "source": [
    "from bs4 import BeautifulSoup\n",
    "\n",
    "def extract_specific_info(html_file_path, tag_name, id_name=None):\n",
    "    # Read the HTML file\n",
    "    with open(html_file_path, 'r', encoding='utf-8') as file:\n",
    "        html_content = file.read()\n",
    "    \n",
    "    # Parse the HTML content\n",
    "    soup = BeautifulSoup(html_content, 'html.parser')\n",
    "    \n",
    "    # Find the specific element\n",
    "    if id_name:\n",
    "        specific_element = soup.find(tag_name, id=id_name)\n",
    "    else:\n",
    "        specific_element = soup.find(tag_name)\n",
    "    \n",
    "    return specific_element\n",
    "\n",
    "# Example usage:\n",
    "html_file_path = 'customer.html'  # Replace 'sample.html' with the path to your HTML file\n",
    "tag_name = 'h1'  # Specify the tag name you want to extract\n",
    "id_name = 'specific-id'  # Specify the id name (if any) of the tag you want to extract\n",
    "\n",
    "specific_element = extract_specific_info(html_file_path, tag_name, id_name)\n",
    "if specific_element:\n",
    "    print(\"Found element:\")\n",
    "    print(specific_element)\n",
    "    print(\"Text content:\")\n",
    "    print(specific_element.text)\n",
    "else:\n",
    "    print(\"Element not found.\")\n"
   ]
  },
  {
   "cell_type": "code",
   "execution_count": 17,
   "id": "29e75402",
   "metadata": {},
   "outputs": [
    {
     "name": "stdout",
     "output_type": "stream",
     "text": [
      "Element not found.\n"
     ]
    }
   ],
   "source": [
    "from bs4 import BeautifulSoup\n",
    "\n",
    "def extract_specific_info(html_file_path, tag_name, id_name=None):\n",
    "    # Read the HTML file\n",
    "    with open(html_file_path, 'r', encoding='utf-8') as file:\n",
    "        html_content = file.read()\n",
    "    \n",
    "    # Parse the HTML content\n",
    "    soup = BeautifulSoup(html_content, 'html.parser')\n",
    "    \n",
    "    # Find the specific element\n",
    "    if id_name:\n",
    "        specific_element = soup.find(tag_name, id=id_name)\n",
    "    else:\n",
    "        specific_element = soup.find(tag_name)\n",
    "    \n",
    "    return specific_element\n",
    "\n",
    "# Example usage:\n",
    "html_file_path = 'customer.html'  # Replace 'sample.html' with the path to your HTML file\n",
    "tag_name = 'div'  # Specify the tag name you want to extract\n",
    "id_name = 'none'  # Specify the id name (if any) of the tag you want to extract\n",
    "\n",
    "specific_element = extract_specific_info(html_file_path, tag_name, id_name)\n",
    "if specific_element:\n",
    "    print(\"Found element:\")\n",
    "    print(specific_element)\n",
    "    print(\"Text content:\")\n",
    "    print(specific_element.text)\n",
    "else:\n",
    "    print(\"Element not found.\")\n"
   ]
  },
  {
   "cell_type": "code",
   "execution_count": 18,
   "id": "65da949c",
   "metadata": {},
   "outputs": [],
   "source": [
    "from bs4 import BeautifulSoup\n",
    "\n",
    "def extract_topic_information(html_file_path, topic_title):\n",
    "    with open(html_file_path, 'r', encoding='utf-8') as file:\n",
    "        html_content = file.read()\n",
    "\n",
    "    soup = BeautifulSoup(html_content, 'html.parser')\n",
    "\n",
    "    # Search for elements containing the topic title\n",
    "    topic_elements = soup.find_all(['h1', 'h2', 'h3'], string=lambda text: topic_title.lower() in text.lower())\n",
    "\n",
    "    # Extract information from the topic elements\n",
    "    topic_information = []\n",
    "    for element in topic_elements:\n",
    "        # Include the element itself and all its siblings until the next heading\n",
    "        topic_information.append(element)\n",
    "        sibling = element.find_next_sibling()\n",
    "        while sibling and sibling.name not in ['h1', 'h2', 'h3']:\n",
    "            topic_information.append(sibling)\n",
    "            sibling = sibling.find_next_sibling()\n",
    "\n",
    "    return topic_information\n",
    "\n",
    "# Example usage:\n",
    "html_file_path = 'customer.html'\n",
    "topic_title = 'Overview of the Data Product'\n",
    "topic_information = extract_topic_information(html_file_path, topic_title)\n",
    "\n",
    "for element in topic_information:\n",
    "    print(element.text.strip())\n"
   ]
  },
  {
   "cell_type": "code",
   "execution_count": null,
   "id": "bb1de4c7",
   "metadata": {},
   "outputs": [],
   "source": []
  }
 ],
 "metadata": {
  "kernelspec": {
   "display_name": "Python 3 (ipykernel)",
   "language": "python",
   "name": "python3"
  },
  "language_info": {
   "codemirror_mode": {
    "name": "ipython",
    "version": 3
   },
   "file_extension": ".py",
   "mimetype": "text/x-python",
   "name": "python",
   "nbconvert_exporter": "python",
   "pygments_lexer": "ipython3",
   "version": "3.9.18"
  }
 },
 "nbformat": 4,
 "nbformat_minor": 5
}
